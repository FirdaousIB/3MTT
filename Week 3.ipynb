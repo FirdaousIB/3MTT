{
 "cells": [
  {
   "cell_type": "code",
   "execution_count": 2,
   "id": "d434035a-1772-47a9-b98f-753860b9b93a",
   "metadata": {},
   "outputs": [
    {
     "name": "stdout",
     "output_type": "stream",
     "text": [
      "['Cape Town', 'Accra']\n"
     ]
    }
   ],
   "source": [
    "mixed_list = [\"3.14\", \"2.71\", 42, \"1.618\", 100, \"Nairobi\", \"Lagos\", \"Cairo\", \"Cape Town\", \"Accra\"]\n",
    "\n",
    "# Slicing to get the last two elements\n",
    "last_two_elements = mixed_list[-2:]\n",
    "\n",
    "print(last_two_elements)"
   ]
  },
  {
   "cell_type": "code",
   "execution_count": null,
   "id": "ff4c1039-8b96-4851-9c7f-047fef4f1714",
   "metadata": {},
   "outputs": [],
   "source": []
  },
  {
   "cell_type": "code",
   "execution_count": null,
   "id": "da4afb4a-8c55-411f-8105-d4c2896eefee",
   "metadata": {},
   "outputs": [],
   "source": []
  }
 ],
 "metadata": {
  "kernelspec": {
   "display_name": "Python 3 (ipykernel)",
   "language": "python",
   "name": "python3"
  },
  "language_info": {
   "codemirror_mode": {
    "name": "ipython",
    "version": 3
   },
   "file_extension": ".py",
   "mimetype": "text/x-python",
   "name": "python",
   "nbconvert_exporter": "python",
   "pygments_lexer": "ipython3",
   "version": "3.11.7"
  }
 },
 "nbformat": 4,
 "nbformat_minor": 5
}
