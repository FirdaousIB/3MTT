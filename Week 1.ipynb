{
 "cells": [
  {
   "cell_type": "code",
   "execution_count": 3,
   "id": "34cbae0f-2711-4779-996f-9313371db988",
   "metadata": {},
   "outputs": [
    {
     "name": "stdout",
     "output_type": "stream",
     "text": [
      "6 8 3.0\n"
     ]
    }
   ],
   "source": [
    "summ = 3+3\n",
    "mul = 4*2\n",
    "div = 15/5\n",
    "\n",
    "print (summ, mul, div)\n"
   ]
  },
  {
   "cell_type": "code",
   "execution_count": 4,
   "id": "417d2ef2-6fd6-40b2-8184-6ecf93ee43d6",
   "metadata": {},
   "outputs": [],
   "source": [
    "lst = [2,3,4,5,6,7,8,9]\n"
   ]
  },
  {
   "cell_type": "code",
   "execution_count": 5,
   "id": "524dd710-7a1a-45cb-9cce-75a5f47db6e7",
   "metadata": {},
   "outputs": [],
   "source": [
    "minimun = min(lst)\n",
    "maximum = max(lst)"
   ]
  },
  {
   "cell_type": "code",
   "execution_count": 7,
   "id": "b2cb60f6-48cc-4d08-ae12-4b23aee9ea9a",
   "metadata": {},
   "outputs": [],
   "source": [
    "ave = sum(lst) / len(lst)"
   ]
  },
  {
   "cell_type": "code",
   "execution_count": 10,
   "id": "d108a2b1-9e93-4cbf-8b94-a7268c1e42d6",
   "metadata": {},
   "outputs": [
    {
     "name": "stdout",
     "output_type": "stream",
     "text": [
      "Average : 5.5\n",
      "Minimum :  2\n",
      "Maximum :  9\n"
     ]
    }
   ],
   "source": [
    "print('Average :', ave)\n",
    "print('Minimum : ', minimun)\n",
    "print('Maximum : ', maximum)"
   ]
  },
  {
   "cell_type": "code",
   "execution_count": null,
   "id": "9bab12a8-dd4a-48b9-baa4-8b1fc34abfce",
   "metadata": {},
   "outputs": [],
   "source": []
  }
 ],
 "metadata": {
  "kernelspec": {
   "display_name": "Python 3 (ipykernel)",
   "language": "python",
   "name": "python3"
  },
  "language_info": {
   "codemirror_mode": {
    "name": "ipython",
    "version": 3
   },
   "file_extension": ".py",
   "mimetype": "text/x-python",
   "name": "python",
   "nbconvert_exporter": "python",
   "pygments_lexer": "ipython3",
   "version": "3.11.7"
  }
 },
 "nbformat": 4,
 "nbformat_minor": 5
}
