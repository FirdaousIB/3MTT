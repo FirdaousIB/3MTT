{
 "cells": [
  {
   "cell_type": "code",
   "execution_count": 1,
   "id": "9b2e37fb-9f06-46d4-9fd0-5d755b1a62ce",
   "metadata": {},
   "outputs": [],
   "source": [
    "import pandas as pd"
   ]
  },
  {
   "cell_type": "code",
   "execution_count": 3,
   "id": "9eb390d4-09ac-40df-a60c-6dc6ac7a2d03",
   "metadata": {},
   "outputs": [],
   "source": [
    "My_info = {'Name': 'Aderinola Zainab', 'Age': 22, 'Country':'Nigeria', 'Hubby': 'Eating'}"
   ]
  },
  {
   "cell_type": "code",
   "execution_count": 7,
   "id": "807817d8-f110-4360-aeb3-c9c31111f28e",
   "metadata": {},
   "outputs": [
    {
     "data": {
      "text/plain": [
       "'Aderinola Zainab'"
      ]
     },
     "execution_count": 7,
     "metadata": {},
     "output_type": "execute_result"
    }
   ],
   "source": [
    "My_info['Name']"
   ]
  },
  {
   "cell_type": "code",
   "execution_count": 8,
   "id": "26f261fe-54df-49bb-a109-3ccf28db9e30",
   "metadata": {},
   "outputs": [
    {
     "data": {
      "text/plain": [
       "{'Name': 'Aderinola Zainab',\n",
       " 'Age': 22,\n",
       " 'Country': 'Nigeria',\n",
       " 'Hubby': 'Eating'}"
      ]
     },
     "execution_count": 8,
     "metadata": {},
     "output_type": "execute_result"
    }
   ],
   "source": [
    "My_info"
   ]
  },
  {
   "cell_type": "code",
   "execution_count": 9,
   "id": "e0aac0bb-2f16-4ea8-b73e-28f73dd3f896",
   "metadata": {},
   "outputs": [
    {
     "data": {
      "text/plain": [
       "dict_values(['Aderinola Zainab', 22, 'Nigeria', 'Eating'])"
      ]
     },
     "execution_count": 9,
     "metadata": {},
     "output_type": "execute_result"
    }
   ],
   "source": [
    "My_info.values()"
   ]
  },
  {
   "cell_type": "code",
   "execution_count": 11,
   "id": "44e86984-dc4f-40eb-a0fe-e4e34ef88139",
   "metadata": {},
   "outputs": [
    {
     "name": "stdout",
     "output_type": "stream",
     "text": [
      "My name is Aderinola Zainab, and i am 22 years old from Nigeria\n"
     ]
    }
   ],
   "source": [
    "print('My name is {}, and i am {} years old from {}'.format(My_info['Name'],My_info['Age'], My_info['Country']))"
   ]
  },
  {
   "cell_type": "code",
   "execution_count": 13,
   "id": "8a0ba30f-b601-4ac1-ae83-6877e8b1c8fb",
   "metadata": {},
   "outputs": [
    {
     "data": {
      "text/plain": [
       "{'Name': ['Aderinola Zainab', 'Balogun Sofiat', 'Balogun Qudrat'],\n",
       " 'Age': [22, 24, 30],\n",
       " 'State': ['Oyo', 'Lagos', 'kwara']}"
      ]
     },
     "execution_count": 13,
     "metadata": {},
     "output_type": "execute_result"
    }
   ],
   "source": [
    "My_Info2 = {'Name': ['Aderinola Zainab', 'Balogun Sofiat',  'Balogun Qudrat'], 'Age': [22, 24, 30], 'State': ['Oyo', 'Lagos', 'kwara']}\n",
    "My_Info2"
   ]
  },
  {
   "cell_type": "code",
   "execution_count": 15,
   "id": "2c7df98e-4c5f-43a5-84ca-2a1a7ecc0af9",
   "metadata": {},
   "outputs": [
    {
     "name": "stdout",
     "output_type": "stream",
     "text": [
      "My name is ['Aderinola Zainab', 'Balogun Sofiat', 'Balogun Qudrat'], and i am [22, 24, 30] years old from ['Oyo', 'Lagos', 'kwara']\n"
     ]
    }
   ],
   "source": [
    "print('My name is {}, and i am {} years old from {}'.format(My_Info2['Name'],My_Info2['Age'], My_Info2['State']))"
   ]
  },
  {
   "cell_type": "code",
   "execution_count": 16,
   "id": "2eec8032-ab82-41ca-b0d1-2484d7144cf4",
   "metadata": {},
   "outputs": [
    {
     "data": {
      "text/html": [
       "<div>\n",
       "<style scoped>\n",
       "    .dataframe tbody tr th:only-of-type {\n",
       "        vertical-align: middle;\n",
       "    }\n",
       "\n",
       "    .dataframe tbody tr th {\n",
       "        vertical-align: top;\n",
       "    }\n",
       "\n",
       "    .dataframe thead th {\n",
       "        text-align: right;\n",
       "    }\n",
       "</style>\n",
       "<table border=\"1\" class=\"dataframe\">\n",
       "  <thead>\n",
       "    <tr style=\"text-align: right;\">\n",
       "      <th></th>\n",
       "      <th>Name</th>\n",
       "      <th>Age</th>\n",
       "      <th>State</th>\n",
       "    </tr>\n",
       "  </thead>\n",
       "  <tbody>\n",
       "    <tr>\n",
       "      <th>0</th>\n",
       "      <td>Aderinola Zainab</td>\n",
       "      <td>22</td>\n",
       "      <td>Oyo</td>\n",
       "    </tr>\n",
       "    <tr>\n",
       "      <th>1</th>\n",
       "      <td>Balogun Sofiat</td>\n",
       "      <td>24</td>\n",
       "      <td>Lagos</td>\n",
       "    </tr>\n",
       "    <tr>\n",
       "      <th>2</th>\n",
       "      <td>Balogun Qudrat</td>\n",
       "      <td>30</td>\n",
       "      <td>kwara</td>\n",
       "    </tr>\n",
       "  </tbody>\n",
       "</table>\n",
       "</div>"
      ],
      "text/plain": [
       "               Name  Age  State\n",
       "0  Aderinola Zainab   22    Oyo\n",
       "1    Balogun Sofiat   24  Lagos\n",
       "2    Balogun Qudrat   30  kwara"
      ]
     },
     "execution_count": 16,
     "metadata": {},
     "output_type": "execute_result"
    }
   ],
   "source": [
    "df=pd.DataFrame(My_Info2)\n",
    "df"
   ]
  },
  {
   "cell_type": "code",
   "execution_count": null,
   "id": "003524fd-e885-4f39-93d8-f19916c053b5",
   "metadata": {},
   "outputs": [],
   "source": []
  }
 ],
 "metadata": {
  "kernelspec": {
   "display_name": "Python 3 (ipykernel)",
   "language": "python",
   "name": "python3"
  },
  "language_info": {
   "codemirror_mode": {
    "name": "ipython",
    "version": 3
   },
   "file_extension": ".py",
   "mimetype": "text/x-python",
   "name": "python",
   "nbconvert_exporter": "python",
   "pygments_lexer": "ipython3",
   "version": "3.11.7"
  }
 },
 "nbformat": 4,
 "nbformat_minor": 5
}
