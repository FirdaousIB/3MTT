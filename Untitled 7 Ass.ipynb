{
 "cells": [
  {
   "cell_type": "code",
   "execution_count": 1,
   "id": "77a0cecc-5abb-4c75-9f88-159b156517c1",
   "metadata": {},
   "outputs": [
    {
     "name": "stdout",
     "output_type": "stream",
     "text": [
      "DataFrame:\n",
      "      Name   Age         City    Salary\n",
      "0    Alice  24.0     New York   70000.0\n",
      "1      Bob   NaN  Los Angeles   80000.0\n",
      "2  Charlie  22.0         None       NaN\n",
      "3     None  32.0      Houston  120000.0\n",
      "4      Eve  29.0      Phoenix       NaN\n",
      "\n",
      "Missing values in each column:\n",
      "Name      1\n",
      "Age       1\n",
      "City      1\n",
      "Salary    2\n",
      "dtype: int64\n",
      "\n",
      "Updated DataFrame with Salary_Filled:\n",
      "      Name   Age         City    Salary  Salary_Filled\n",
      "0    Alice  24.0     New York   70000.0        70000.0\n",
      "1      Bob   NaN  Los Angeles   80000.0        80000.0\n",
      "2  Charlie  22.0         None       NaN        90000.0\n",
      "3     None  32.0      Houston  120000.0       120000.0\n",
      "4      Eve  29.0      Phoenix       NaN        90000.0\n"
     ]
    }
   ],
   "source": [
    "import pandas as pd\n",
    "\n",
    "# Create the DataFrame\n",
    "data = {\n",
    "    'Name': ['Alice', 'Bob', 'Charlie', None, 'Eve'],\n",
    "    'Age': [24, None, 22, 32, 29],\n",
    "    'City': ['New York', 'Los Angeles', None, 'Houston', 'Phoenix'],\n",
    "    'Salary': [70000, 80000, None, 120000, None]\n",
    "}\n",
    "\n",
    "df = pd.DataFrame(data)\n",
    "\n",
    "# Display the DataFrame\n",
    "print(\"DataFrame:\")\n",
    "print(df)\n",
    "\n",
    "# Count missing values in each column\n",
    "missing_counts = df.isnull().sum()\n",
    "print(\"\\nMissing values in each column:\")\n",
    "print(missing_counts)\n",
    "\n",
    "# Calculate the average salary, ignoring NaN values\n",
    "average_salary = df['Salary'].mean()\n",
    "\n",
    "# Create a new column Salary_Filled with filled values\n",
    "df['Salary_Filled'] = df['Salary'].fillna(average_salary)\n",
    "\n",
    "# Display the updated DataFrame\n",
    "print(\"\\nUpdated DataFrame with Salary_Filled:\")\n",
    "print(df)"
   ]
  },
  {
   "cell_type": "code",
   "execution_count": null,
   "id": "f32ced94-4642-4cea-aa1b-4be3afbf8c00",
   "metadata": {},
   "outputs": [],
   "source": []
  }
 ],
 "metadata": {
  "kernelspec": {
   "display_name": "Python 3 (ipykernel)",
   "language": "python",
   "name": "python3"
  },
  "language_info": {
   "codemirror_mode": {
    "name": "ipython",
    "version": 3
   },
   "file_extension": ".py",
   "mimetype": "text/x-python",
   "name": "python",
   "nbconvert_exporter": "python",
   "pygments_lexer": "ipython3",
   "version": "3.11.7"
  }
 },
 "nbformat": 4,
 "nbformat_minor": 5
}
